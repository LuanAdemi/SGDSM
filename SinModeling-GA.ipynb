{
 "cells": [
  {
   "cell_type": "code",
   "execution_count": 13,
   "metadata": {},
   "outputs": [],
   "source": [
    "import random\n",
    "import math\n",
    "from IPython.core.debugger import set_trace\n",
    "from IPython.display import clear_output"
   ]
  },
  {
   "cell_type": "code",
   "execution_count": 14,
   "metadata": {},
   "outputs": [],
   "source": [
    "bestEver = []\n",
    "record = 1e7\n",
    "currentBest = []\n",
    "\n",
    "population = []\n",
    "numPopulation = 600\n",
    "fitness = []"
   ]
  },
  {
   "cell_type": "code",
   "execution_count": 15,
   "metadata": {},
   "outputs": [],
   "source": [
    "# generate a population for the genetic algorithm\n",
    "for i in range(numPopulation):\n",
    "    order = (random.)\n",
    "    population.append(order)"
   ]
  },
  {
   "cell_type": "code",
   "execution_count": 16,
   "metadata": {},
   "outputs": [],
   "source": [
    "# calculates the distance of a give order\n",
    "def calcDistance(order):\n",
    "    dist = 0\n",
    "    for i in range(len(order)-1):\n",
    "        #set_trace()\n",
    "        dist += math.sqrt( (cities[order[i+1]][0] - cities[order[i]][0])**2 + (cities[order[i+1]][1] - cities[order[i]][1])**2 )\n",
    "    return dist"
   ]
  },
  {
   "cell_type": "code",
   "execution_count": 17,
   "metadata": {},
   "outputs": [],
   "source": [
    "# calculates the fitness values for the generated population\n",
    "def calculateFitness():\n",
    "    currentRecord = 1e7\n",
    "    global recordDistance, bestEver\n",
    "    for i in range(numPopulation):\n",
    "        # calculate the distance of the orders in the population\n",
    "        distance = calcDistance(population[i])\n",
    "        \n",
    "        # if the ditance is better than what we have ever seen before, save it\n",
    "        if distance < recordDistance:\n",
    "            recordDistance = distance\n",
    "            bestEver = population[i]\n",
    "        \n",
    "        # if the ditance is better than what we have seen before in the population, save it\n",
    "        if distance < currentRecord:\n",
    "            currentRecord = distance\n",
    "            currentBest = population[i]\n",
    "            \n",
    "        fitness.append( 1 / (pow(distance, 8) + 1))\n",
    "        "
   ]
  },
  {
   "cell_type": "code",
   "execution_count": 18,
   "metadata": {},
   "outputs": [],
   "source": [
    "# normalize the fitness\n",
    "def normalizeFitness():\n",
    "    theSUM = 0\n",
    "    for i in range(len(fitness)):\n",
    "        theSUM += fitness[i]\n",
    "    for i in range(len(fitness)):\n",
    "        fitness[i] = fitness[i] / theSUM"
   ]
  },
  {
   "cell_type": "code",
   "execution_count": 19,
   "metadata": {},
   "outputs": [],
   "source": [
    "# pickes an element of a list by it's given probability\n",
    "def pickOne(ls,prob):\n",
    "    index = 0\n",
    "    r = random.uniform(0,1)\n",
    "    \n",
    "    while r > 0:\n",
    "        r = r - prob[index]\n",
    "        index += 1\n",
    "    \n",
    "    index -= 1\n",
    "    \n",
    "    return ls[index]"
   ]
  },
  {
   "cell_type": "code",
   "execution_count": 20,
   "metadata": {},
   "outputs": [],
   "source": [
    "# randomly mutates out order\n",
    "def mutate(order, mutationRate):\n",
    "    for i in range(numCities):\n",
    "        if random.uniform(0,1) < mutationRate:\n",
    "            index1 = math.floor(random.randint(0, len(order)-1))\n",
    "            index2 = math.floor(random.randint(0, len(order)-1))\n",
    "            #set_trace()\n",
    "            order[index1], order[index2] = order[index2], order[index1]\n",
    "            "
   ]
  },
  {
   "cell_type": "code",
   "execution_count": 21,
   "metadata": {},
   "outputs": [],
   "source": [
    "def crossOver(order1, order2):\n",
    "    start = math.floor(random.randint(0,len(order1)))\n",
    "    end = math.floor(random.randint(start,len(order1)))\n",
    "    neworder = order1[start:end]\n",
    "    #set_trace()\n",
    "    for i in range(len(order2)):\n",
    "        city = order2[i]\n",
    "        if city not in neworder:\n",
    "            neworder.append(city)\n",
    "    return neworder"
   ]
  },
  {
   "cell_type": "code",
   "execution_count": 11,
   "metadata": {},
   "outputs": [],
   "source": [
    "def nextGeneration():\n",
    "    newPopulation = []\n",
    "    global population\n",
    "    for i in range(numPopulation):\n",
    "        order1 = pickOne(population, fitness)\n",
    "        order2 = pickOne(population, fitness)\n",
    "        order = crossOver(order1, order2)\n",
    "        mutate(order,0.25)\n",
    "        newPopulation.append(order)\n",
    "    population = newPopulation"
   ]
  },
  {
   "cell_type": "code",
   "execution_count": 12,
   "metadata": {},
   "outputs": [
    {
     "name": "stdout",
     "output_type": "stream",
     "text": [
      "pygame 1.9.6\n",
      "Hello from the pygame community. https://www.pygame.org/contribute.html\n",
      "Current best order: [6, 9, 8, 0, 1, 5, 2, 4, 7, 3] with a distance of 57.102242448082244\r"
     ]
    },
    {
     "ename": "KeyboardInterrupt",
     "evalue": "",
     "output_type": "error",
     "traceback": [
      "\u001b[0;31m---------------------------------------------------------------------------\u001b[0m",
      "\u001b[0;31mKeyboardInterrupt\u001b[0m                         Traceback (most recent call last)",
      "\u001b[0;32m<ipython-input-12-42d81a4d134c>\u001b[0m in \u001b[0;36m<module>\u001b[0;34m\u001b[0m\n\u001b[1;32m     18\u001b[0m             \u001b[0mquit\u001b[0m\u001b[0;34m(\u001b[0m\u001b[0;34m)\u001b[0m\u001b[0;34m\u001b[0m\u001b[0;34m\u001b[0m\u001b[0m\n\u001b[1;32m     19\u001b[0m \u001b[0;34m\u001b[0m\u001b[0m\n\u001b[0;32m---> 20\u001b[0;31m     \u001b[0mcalculateFitness\u001b[0m\u001b[0;34m(\u001b[0m\u001b[0;34m)\u001b[0m\u001b[0;34m\u001b[0m\u001b[0;34m\u001b[0m\u001b[0m\n\u001b[0m\u001b[1;32m     21\u001b[0m     \u001b[0mnormalizeFitness\u001b[0m\u001b[0;34m(\u001b[0m\u001b[0;34m)\u001b[0m\u001b[0;34m\u001b[0m\u001b[0;34m\u001b[0m\u001b[0m\n\u001b[1;32m     22\u001b[0m     \u001b[0mnextGeneration\u001b[0m\u001b[0;34m(\u001b[0m\u001b[0;34m)\u001b[0m\u001b[0;34m\u001b[0m\u001b[0;34m\u001b[0m\u001b[0m\n",
      "\u001b[0;32m<ipython-input-6-5d547a0bfef0>\u001b[0m in \u001b[0;36mcalculateFitness\u001b[0;34m()\u001b[0m\n\u001b[1;32m      5\u001b[0m     \u001b[0;32mfor\u001b[0m \u001b[0mi\u001b[0m \u001b[0;32min\u001b[0m \u001b[0mrange\u001b[0m\u001b[0;34m(\u001b[0m\u001b[0mnumPopulation\u001b[0m\u001b[0;34m)\u001b[0m\u001b[0;34m:\u001b[0m\u001b[0;34m\u001b[0m\u001b[0;34m\u001b[0m\u001b[0m\n\u001b[1;32m      6\u001b[0m         \u001b[0;31m# calculate the distance of the orders in the population\u001b[0m\u001b[0;34m\u001b[0m\u001b[0;34m\u001b[0m\u001b[0;34m\u001b[0m\u001b[0m\n\u001b[0;32m----> 7\u001b[0;31m         \u001b[0mdistance\u001b[0m \u001b[0;34m=\u001b[0m \u001b[0mcalcDistance\u001b[0m\u001b[0;34m(\u001b[0m\u001b[0mpopulation\u001b[0m\u001b[0;34m[\u001b[0m\u001b[0mi\u001b[0m\u001b[0;34m]\u001b[0m\u001b[0;34m)\u001b[0m\u001b[0;34m\u001b[0m\u001b[0;34m\u001b[0m\u001b[0m\n\u001b[0m\u001b[1;32m      8\u001b[0m \u001b[0;34m\u001b[0m\u001b[0m\n\u001b[1;32m      9\u001b[0m         \u001b[0;31m# if the ditance is better than what we have ever seen before, save it\u001b[0m\u001b[0;34m\u001b[0m\u001b[0;34m\u001b[0m\u001b[0;34m\u001b[0m\u001b[0m\n",
      "\u001b[0;32m<ipython-input-5-278e819de93f>\u001b[0m in \u001b[0;36mcalcDistance\u001b[0;34m(order)\u001b[0m\n\u001b[1;32m      4\u001b[0m     \u001b[0;32mfor\u001b[0m \u001b[0mi\u001b[0m \u001b[0;32min\u001b[0m \u001b[0mrange\u001b[0m\u001b[0;34m(\u001b[0m\u001b[0mlen\u001b[0m\u001b[0;34m(\u001b[0m\u001b[0morder\u001b[0m\u001b[0;34m)\u001b[0m\u001b[0;34m-\u001b[0m\u001b[0;36m1\u001b[0m\u001b[0;34m)\u001b[0m\u001b[0;34m:\u001b[0m\u001b[0;34m\u001b[0m\u001b[0;34m\u001b[0m\u001b[0m\n\u001b[1;32m      5\u001b[0m         \u001b[0;31m#set_trace()\u001b[0m\u001b[0;34m\u001b[0m\u001b[0;34m\u001b[0m\u001b[0;34m\u001b[0m\u001b[0m\n\u001b[0;32m----> 6\u001b[0;31m         \u001b[0mdist\u001b[0m \u001b[0;34m+=\u001b[0m \u001b[0mmath\u001b[0m\u001b[0;34m.\u001b[0m\u001b[0msqrt\u001b[0m\u001b[0;34m(\u001b[0m \u001b[0;34m(\u001b[0m\u001b[0mcities\u001b[0m\u001b[0;34m[\u001b[0m\u001b[0morder\u001b[0m\u001b[0;34m[\u001b[0m\u001b[0mi\u001b[0m\u001b[0;34m+\u001b[0m\u001b[0;36m1\u001b[0m\u001b[0;34m]\u001b[0m\u001b[0;34m]\u001b[0m\u001b[0;34m[\u001b[0m\u001b[0;36m0\u001b[0m\u001b[0;34m]\u001b[0m \u001b[0;34m-\u001b[0m \u001b[0mcities\u001b[0m\u001b[0;34m[\u001b[0m\u001b[0morder\u001b[0m\u001b[0;34m[\u001b[0m\u001b[0mi\u001b[0m\u001b[0;34m]\u001b[0m\u001b[0;34m]\u001b[0m\u001b[0;34m[\u001b[0m\u001b[0;36m0\u001b[0m\u001b[0;34m]\u001b[0m\u001b[0;34m)\u001b[0m\u001b[0;34m**\u001b[0m\u001b[0;36m2\u001b[0m \u001b[0;34m+\u001b[0m \u001b[0;34m(\u001b[0m\u001b[0mcities\u001b[0m\u001b[0;34m[\u001b[0m\u001b[0morder\u001b[0m\u001b[0;34m[\u001b[0m\u001b[0mi\u001b[0m\u001b[0;34m+\u001b[0m\u001b[0;36m1\u001b[0m\u001b[0;34m]\u001b[0m\u001b[0;34m]\u001b[0m\u001b[0;34m[\u001b[0m\u001b[0;36m1\u001b[0m\u001b[0;34m]\u001b[0m \u001b[0;34m-\u001b[0m \u001b[0mcities\u001b[0m\u001b[0;34m[\u001b[0m\u001b[0morder\u001b[0m\u001b[0;34m[\u001b[0m\u001b[0mi\u001b[0m\u001b[0;34m]\u001b[0m\u001b[0;34m]\u001b[0m\u001b[0;34m[\u001b[0m\u001b[0;36m1\u001b[0m\u001b[0;34m]\u001b[0m\u001b[0;34m)\u001b[0m\u001b[0;34m**\u001b[0m\u001b[0;36m2\u001b[0m \u001b[0;34m)\u001b[0m\u001b[0;34m\u001b[0m\u001b[0;34m\u001b[0m\u001b[0m\n\u001b[0m\u001b[1;32m      7\u001b[0m     \u001b[0;32mreturn\u001b[0m \u001b[0mdist\u001b[0m\u001b[0;34m\u001b[0m\u001b[0;34m\u001b[0m\u001b[0m\n",
      "\u001b[0;31mKeyboardInterrupt\u001b[0m: "
     ]
    }
   ],
   "source": [
    "import pygame\n",
    "from math import pi\n",
    "pygame.init()\n",
    "\n",
    "screen = pygame.display.set_mode((500, 500))\n",
    "WHITE = pygame.Color(255, 255, 255)\n",
    "RED = pygame.Color(255, 0, 0) \n",
    "BLACK = pygame.Color(0, 0, 0) \n",
    "\n",
    "size = (500, 500)\n",
    "radius = 6\n",
    "\n",
    "canvas = pygame.Surface(size)\n",
    "\n",
    "while True:\n",
    "    for event in pygame.event.get():\n",
    "        if event.type == pygame.QUIT:\n",
    "            quit()\n",
    "    \n",
    "    calculateFitness()\n",
    "    normalizeFitness()\n",
    "    nextGeneration()\n",
    "    print (\"Current best order: \" + str(bestEver) + \" with a distance of \" + str(recordDistance), end=\"\\r\")\n",
    "    \n",
    "    canvas.fill(BLACK)\n",
    "    \n",
    "    for city in cities:\n",
    "        pygame.draw.circle(canvas, RED, (city[0]*20, city[1]*20), radius)\n",
    "\n",
    "    for i in range(len(bestEver)-1):\n",
    "        pygame.draw.line(canvas, WHITE, (cities[bestEver[i]][0]*20, cities[bestEver[i]][1]*20), (cities[bestEver[i+1]][0]*20, cities[bestEver[i+1]][1]*20))\n",
    "    \n",
    "    screen.blit(canvas,(0, 0))\n",
    "    pygame.display.update()"
   ]
  },
  {
   "cell_type": "code",
   "execution_count": null,
   "metadata": {},
   "outputs": [],
   "source": []
  }
 ],
 "metadata": {
  "kernelspec": {
   "display_name": "Python 3",
   "language": "python",
   "name": "python3"
  },
  "language_info": {
   "codemirror_mode": {
    "name": "ipython",
    "version": 3
   },
   "file_extension": ".py",
   "mimetype": "text/x-python",
   "name": "python",
   "nbconvert_exporter": "python",
   "pygments_lexer": "ipython3",
   "version": "3.6.9"
  }
 },
 "nbformat": 4,
 "nbformat_minor": 4
}
