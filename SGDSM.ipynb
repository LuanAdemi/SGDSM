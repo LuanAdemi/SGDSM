{
 "cells": [
  {
   "cell_type": "code",
   "execution_count": 30,
   "metadata": {},
   "outputs": [],
   "source": [
    "import numpy as np\n",
    "import matplotlib.pyplot as plt\n",
    "from IPython.display import clear_output\n",
    "\n",
    "A,B,C,D = 1,1,0,0\n",
    "\n",
    "Dataset = [[0,-10],[5,10],[10,-10]] # [x,Y]"
   ]
  },
  {
   "cell_type": "code",
   "execution_count": 31,
   "metadata": {},
   "outputs": [],
   "source": [
    "def f(x):\n",
    "    global A,B,C,D\n",
    "    return A * np.sin(B * (x + C)) + D"
   ]
  },
  {
   "cell_type": "code",
   "execution_count": 32,
   "metadata": {},
   "outputs": [],
   "source": [
    "def calcSSE():\n",
    "    sse = 0\n",
    "    for x,y in Dataset:\n",
    "        sse += y - f(x)\n",
    "    return sse"
   ]
  },
  {
   "cell_type": "code",
   "execution_count": 33,
   "metadata": {},
   "outputs": [],
   "source": [
    "def J():\n",
    "    return 1/2 * calcSSE() ** 2"
   ]
  },
  {
   "cell_type": "code",
   "execution_count": 34,
   "metadata": {},
   "outputs": [],
   "source": [
    "# implementation of the stochastic gradient descent algorithm\n",
    "# this function performs one gradient step and optimizes J()\n",
    "\n",
    "def SGDstep(lr=0.005):\n",
    "    global A,B,C,D\n",
    "    \n",
    "    for x,y in Dataset:\n",
    "        \n",
    "        Y = f(x)\n",
    "        \n",
    "        dJdY = (Y-y)\n",
    "        \n",
    "        dYdA = np.sin(B + (x + C))\n",
    "        dJdA = dJdY * dYdA\n",
    "        \n",
    "        dYdB = A * (x + C) * np.cos((x + C) * B)\n",
    "        dJdB = dJdY * dYdB\n",
    "        \n",
    "        dYdC = A * B * np.cos(B * (x + C))\n",
    "        dJdC = dJdY * dYdC\n",
    "        \n",
    "        dYdD = 1\n",
    "        dJdD = dJdY * dYdD\n",
    "        \n",
    "        A = A - lr * dJdA\n",
    "        B = B - lr * dJdB\n",
    "        C = C - lr * dJdC\n",
    "        D = D - lr * dJdD"
   ]
  },
  {
   "cell_type": "code",
   "execution_count": 35,
   "metadata": {},
   "outputs": [
    {
     "data": {
      "image/png": "[encoded data removed]",
      "text/plain": [
       "<Figure size 432x288 with 1 Axes>"
      ]
     },
     "metadata": {
      "needs_background": "light"
     },
     "output_type": "display_data"
    },
    {
     "name": "stdout",
     "output_type": "stream",
     "text": [
      "A= -7.960653750903361; B = 0.6283185307333243; C = -7.499999999847877; D = -1.0755910996348306\n"
     ]
    }
   ],
   "source": [
    "# this is the main loop\n",
    "annealing = True # enabeling simulated annealing, to jump out of local minimas\n",
    "for i in range(1000, 1, -1):\n",
    "    if annealing:\n",
    "        SGDstep(i/100000)\n",
    "    else:\n",
    "        SGDstep()\n",
    "    \n",
    "    clear_output(wait=True)\n",
    "    x = np.arange(0,20,0.01)   # start,stop,step\n",
    "    y = f(x)\n",
    "    plt.plot(x,y)\n",
    "    plt.show()\n",
    "    print(\"A= \" + str(A) + \"; B = \" + str(B) + \"; C = \" + str(C) + \"; D = \" + str(D))"
   ]
  },
  {
   "cell_type": "code",
   "execution_count": null,
   "metadata": {},
   "outputs": [],
   "source": []
  }
 ],
 "metadata": {
  "kernelspec": {
   "display_name": "Python 3",
   "language": "python",
   "name": "python3"
  },
  "language_info": {
   "codemirror_mode": {
    "name": "ipython",
    "version": 3
   },
   "file_extension": ".py",
   "mimetype": "text/x-python",
   "name": "python",
   "nbconvert_exporter": "python",
   "pygments_lexer": "ipython3",
   "version": "3.6.9"
  }
 },
 "nbformat": 4,
 "nbformat_minor": 4
}
